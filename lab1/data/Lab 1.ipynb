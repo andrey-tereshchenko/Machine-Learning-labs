{
 "cells": [
  {
   "cell_type": "markdown",
   "metadata": {},
   "source": [
    "# Лабораторная работа 1 - Линейная, полиномиальная регрессия"
   ]
  },
  {
   "cell_type": "markdown",
   "metadata": {},
   "source": [
    "### Задание 1\n",
    "В файле ```1.csv``` содержатся координаты точек. Найти коеффициенты ___k, b___ линейной функции <i>y = k * x + b</i>, найлучшим образом описывающей данные."
   ]
  },
  {
   "cell_type": "code",
   "execution_count": 1,
   "metadata": {
    "ExecuteTime": {
     "end_time": "2019-09-09T14:48:49.416641Z",
     "start_time": "2019-09-09T14:48:49.276486Z"
    }
   },
   "outputs": [
    {
     "data": {
      "text/plain": [
       "<Figure size 640x480 with 1 Axes>"
      ]
     },
     "metadata": {},
     "output_type": "display_data"
    }
   ],
   "source": [
    "import numpy as np\n",
    "import matplotlib.pyplot as plt\n",
    "import pandas as pd\n",
    "\n",
    "df = pd.read_csv('1.csv')\n",
    "x, y = df['x'].values, df['y'].values\n",
    "\n",
    "def h(k, b):\n",
    "    # TODO\n",
    "    return np.zeros_like(x)\n",
    "\n",
    "def J(k, b):\n",
    "    # TODO\n",
    "    return 0\n",
    "\n",
    "def grad(k, b):\n",
    "    # TODO\n",
    "    return 0, 0\n",
    "\n",
    "k0, b0 = 0, 0\n",
    "learning_rate = 1e-1\n",
    "\n",
    "k, b = k0, b0\n",
    "for _ in range(100):\n",
    "    # Update k, b\n",
    "    pass\n",
    "    \n",
    "plt.scatter(x, y, marker='.')\n",
    "plt.plot([0, 1], [b, k + b], c='red')\n",
    "plt.show()"
   ]
  },
  {
   "cell_type": "markdown",
   "metadata": {
    "ExecuteTime": {
     "end_time": "2019-09-09T14:39:31.797251Z",
     "start_time": "2019-09-09T14:39:31.761139Z"
    }
   },
   "source": [
    "### Задание 2\n",
    "В файле ```2.csv``` содержатся координаты точек. Найти коеффициенты ___a0, a1, a2, a3___ полиномиальной функции <i>y = a0 + a1 * x + a2 * x^2 + a3 * x^3</i>, найлучшим образом описывающей данные."
   ]
  },
  {
   "cell_type": "code",
   "execution_count": 2,
   "metadata": {
    "ExecuteTime": {
     "end_time": "2019-09-09T14:47:44.612772Z",
     "start_time": "2019-09-09T14:47:44.471817Z"
    }
   },
   "outputs": [
    {
     "data": {
      "image/png": "[encoded data removed]",
      "text/plain": [
       "<Figure size 432x288 with 1 Axes>"
      ]
     },
     "metadata": {
      "needs_background": "light"
     },
     "output_type": "display_data"
    }
   ],
   "source": [
    "df = pd.read_csv('2.csv')\n",
    "x, y = df['x'].values, df['y'].values\n",
    "\n",
    "plt.scatter(x, y, marker='.')\n",
    "plt.show()\n",
    "\n",
    "# TODO"
   ]
  },
  {
   "cell_type": "markdown",
   "metadata": {
    "ExecuteTime": {
     "end_time": "2019-09-09T14:45:03.514526Z",
     "start_time": "2019-09-09T14:45:03.487613Z"
    }
   },
   "source": [
    "### Задание 3*\n",
    "В файле ```3.csv``` содержатся координаты точек. Найти коеффициенты ___k, b___ линейной функции <i>y = k * x + b</i>, найлучшим образом описывающей данные."
   ]
  },
  {
   "cell_type": "markdown",
   "metadata": {
    "ExecuteTime": {
     "end_time": "2019-09-09T14:46:32.922988Z",
     "start_time": "2019-09-09T14:46:32.906507Z"
    }
   },
   "source": [
    "### Задание 4**\n",
    "В файле ```4.csv``` содержатся координаты точек. Найти коеффициенты неизвестной полиномиальной функции <i>y(x1, x2)</i>, найлучшим образом описывающей данные."
   ]
  }
 ],
 "metadata": {
  "kernelspec": {
   "display_name": "Python 3",
   "language": "python",
   "name": "python3"
  },
  "language_info": {
   "codemirror_mode": {
    "name": "ipython",
    "version": 3
   },
   "file_extension": ".py",
   "mimetype": "text/x-python",
   "name": "python",
   "nbconvert_exporter": "python",
   "pygments_lexer": "ipython3",
   "version": "3.7.4"
  },
  "varInspector": {
   "cols": {
    "lenName": 16,
    "lenType": 16,
    "lenVar": 40
   },
   "kernels_config": {
    "python": {
     "delete_cmd_postfix": "",
     "delete_cmd_prefix": "del ",
     "library": "var_list.py",
     "varRefreshCmd": "print(var_dic_list())"
    },
    "r": {
     "delete_cmd_postfix": ") ",
     "delete_cmd_prefix": "rm(",
     "library": "var_list.r",
     "varRefreshCmd": "cat(var_dic_list()) "
    }
   },
   "types_to_exclude": [
    "module",
    "function",
    "builtin_function_or_method",
    "instance",
    "_Feature"
   ],
   "window_display": false
  }
 },
 "nbformat": 4,
 "nbformat_minor": 2
}
